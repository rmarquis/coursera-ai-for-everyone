{
 "cells": [
  {
   "cell_type": "markdown",
   "metadata": {},
   "source": [
    "# Week 1 Quiz"
   ]
  },
  {
   "cell_type": "markdown",
   "metadata": {},
   "source": [
    "## 1. Which of these terms best describes the type of AI used in today’s email spam filters, speech recognition, and other specific applications?\n",
    "\n",
    "- [ ] Artificial General Intelligence (AGI)\n",
    "- [ ] Artificial Narrow Intelligence (ANI)"
   ]
  },
  {
   "cell_type": "markdown",
   "metadata": {},
   "source": [
    "## 2. What do you call the commonly used AI technology for learning input (A) to output (B) mappings?\n",
    "\n",
    "- [ ] Artificial General Intelligence\n",
    "- [ ] Reinforcement learning\n",
    "- [ ] Supervised learning\n",
    "- [ ] Unsupervised learning"
   ]
  },
  {
   "cell_type": "markdown",
   "metadata": {},
   "source": [
    "## 3. You want to use supervised learning to build a speech recognition system. The figure above suggests that in order for a neural network (deep learning) to achieve the best performance, you would ideally use: (Select all that apply)\n",
    "\n",
    "<img src=\"images/GP_vNzrSEem4egrIUlgmqg_1d773c325e3f27a865e194874ac30a80_chart.jpg\"  alt=\"Figure 1\" style=\"width: 50%;\">\n",
    "\n",
    "- [ ] A large dataset (of audio files and the corresponding text transcript)\n",
    "- [ ] A small dataset (of audio files and the corresponding text transcript)\n",
    "- [ ] A large neural network\n",
    "- [ ] A small neural network"
   ]
  },
  {
   "cell_type": "markdown",
   "metadata": {},
   "source": [
    "## 4. The only way to acquire data for a supervised learning algorithm is to manually label it. I.e., given the input A, to ask a human to provide B.\n",
    "\n",
    "- [ ] True\n",
    "- [ ] False"
   ]
  },
  {
   "cell_type": "markdown",
   "metadata": {},
   "source": [
    "## 5. Which of these statements regarding data acquisition do you agree with?\n",
    "\n",
    "- [ ] It doesn’t matter how data is acquired. The more data, the better.\n",
    "- [ ] Only structured data is valuable; AI cannot process unstructured data.\n",
    "- [ ] It doesn’t help to give data to an AI team, because they can always produce whatever they need by themselves.\n",
    "- [ ] Some types of data are more valuable than others; working with an AI team can help you figure out what data to acquire."
   ]
  },
  {
   "cell_type": "markdown",
   "metadata": {},
   "source": [
    "## 6. You run a company that manufactures scooters. Which of the following are examples of unstructured data? (Select all that apply.)\n",
    "\n",
    "- [ ] Pictures of your scooters\n",
    "- [ ] The number of scooters sold per week over the past year\n",
    "- [ ] Audio files of the engine sound of your scooters\n",
    "- [ ] The maximum speed of each of your scooters"
   ]
  },
  {
   "cell_type": "markdown",
   "metadata": {},
   "source": [
    "## 7. Suppose you run a website that sells cat food. Which of these might be a good result from a Data Science project? (Select all that apply.)\n",
    "\n",
    "- [ ] Insights into how to market cat food more effectively, depending on the breed of cat.\n",
    "- [ ] A large dataset of images labeled as “Cat” and “Not Cat”\n",
    "- [ ] A slide deck presenting a plan on how to modify pricing in order to improve sales.\n",
    "- [ ] A neural network that closely mimics how cats’ brains work."
   ]
  },
  {
   "cell_type": "markdown",
   "metadata": {},
   "source": [
    "## 8. Based on the terminology defined in Video 4, which of the following statements do you agree with? (Select all that apply.)\n",
    "\n",
    "- [ ] Deep learning is a type of machine learning.  (I.e., all deep learning algorithms are machine learning algorithms.)\n",
    "- [ ] AI is a type of deep learning. (I.e., all AI algorithms are deep learning algorithms.)\n",
    "- [ ] The terms “Machine learning” and “data science” are used almost interchangeably.\n",
    "- [ ] The terms “Deep learning” and “neural network” are used almost interchangeably."
   ]
  },
  {
   "cell_type": "markdown",
   "metadata": {},
   "source": [
    "## 9. Which of these do AI companies do well?\n",
    "\n",
    "- [ ] Strategic data acquisition\n",
    "- [ ] Invest in unified data warehouses\n",
    "- [ ] Spot automation opportunities\n",
    "- [ ] All of the above"
   ]
  },
  {
   "cell_type": "markdown",
   "metadata": {},
   "source": [
    "## 10. Say you want to input a picture of a person’s face (A), and output whether or not they are smiling (B). Because this is a task that most humans can do in less than 1 second, supervised learning can probably learn this A-to-B mapping.\n",
    "\n",
    "- [ ] True\n",
    "- [ ] False"
   ]
  }
 ],
 "metadata": {
  "kernelspec": {
   "display_name": "Python 3",
   "language": "python",
   "name": "python3"
  },
  "language_info": {
   "codemirror_mode": {
    "name": "ipython",
    "version": 3
   },
   "file_extension": ".py",
   "mimetype": "text/x-python",
   "name": "python",
   "nbconvert_exporter": "python",
   "pygments_lexer": "ipython3",
   "version": "3.7.4"
  }
 },
 "nbformat": 4,
 "nbformat_minor": 2
}
