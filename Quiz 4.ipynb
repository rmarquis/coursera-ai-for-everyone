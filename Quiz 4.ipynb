{
 "cells": [
  {
   "cell_type": "markdown",
   "metadata": {},
   "source": [
    "# Week 4 Quiz"
   ]
  },
  {
   "cell_type": "markdown",
   "metadata": {},
   "source": [
    "## 1. What are the current limitations of AI technology? (Select all that apply)\n",
    "\n",
    "- [ ] AI technology can be biased\n",
    "- [ ] Explainability is hard\n",
    "- [ ] AI technology is susceptible to adversarial attacks\n",
    "- [ ] There are no limitations to AI technology\n",
    "- [ ] AI technology can discriminate"
   ]
  },
  {
   "cell_type": "markdown",
   "metadata": {},
   "source": [
    "## 2. What is the Goldilocks Rule of AI?\n",
    "\n",
    "- [ ] An AI winter is coming\n",
    "- [ ] AI’s technology will continue to grow and can only benefit society\n",
    "- [ ] One shouldn’t be too optimistic or too pessimistic about AI technology\n",
    "- [ ] One should allocate many resources to defend the world from giant killer robots"
   ]
  },
  {
   "cell_type": "markdown",
   "metadata": {},
   "source": [
    "## 3. Say you are building an AI system to help make diagnoses from X-ray scans. Which of the following statements about explainability of AI do you agree with?\n",
    "\n",
    "- [ ] Explainability is usually achieved through building a chatbot to talk to the user to explain its outputs.\n",
    "- [ ] Most AI systems are highly explainable, meaning that it’s easy for a doctor to figure out why an AI system gave a particular diagnosis.\n",
    "- [ ] Lack of explainability can hamper users’ willingness to trust and adopt an AI system.\n",
    "- [ ] AI systems are intrinsically “black box” and cannot give any explanation for their outputs."
   ]
  },
  {
   "cell_type": "markdown",
   "metadata": {},
   "source": [
    "## 4. Using current AI technology, if a machine learning system learns from text that reflects unhealthy biases/stereotypes, then the resulting AI software may also exhibit similarly unhealthy biases/stereotypes.\n",
    "\n",
    "- [ ] True\n",
    "- [ ] False"
   ]
  },
  {
   "cell_type": "markdown",
   "metadata": {},
   "source": [
    "## 5. Using current AI technology, if a machine learning system learns only from text that is completely neutral and does not reflect any gender biases, then we would expect it to exhibit no, or at most minimal, gender bias.\n",
    "\n",
    "- [ ] True\n",
    "- [ ] False"
   ]
  },
  {
   "cell_type": "markdown",
   "metadata": {},
   "source": [
    "## 6. Which of these are good practices for addressing bias in AI? (Select all that apply)\n",
    "\n",
    "- [ ] Technical solution such as “zeroing out” bias\n",
    "- [ ] Systematic auditing processes to check for bias\n",
    "- [ ] Using an adversarial attack on the AI system to change its outputs to be less biased\n",
    "- [ ] Using more inclusive/less biased data"
   ]
  },
  {
   "cell_type": "markdown",
   "metadata": {},
   "source": [
    "## 7. Which of these are examples of adversarial attacks on an AI system? (Select all that apply)\n",
    "\n",
    "- [ ] Subtly modifying an audio clip to make a speech recognition system think someone said “Yes, authorized” when they actually said “No, reject.”\n",
    "- [ ] Using AI to synthesize a fake video of a politician saying something they never actually said.\n",
    "- [ ] Adding a sticker to a stop sign to make an AI system fail to detect it.\n",
    "- [ ] Subtly changing an image to make an AI system mistakenly recognize a dog as a cat."
   ]
  },
  {
   "cell_type": "markdown",
   "metadata": {},
   "source": [
    "## 8. If a developing economy has a strong and thriving coffee bean manufacturing industry (or some other vertical industry), then it has an advantage in applying AI to coffee bean manufacturing (or other vertical industry).\n",
    "\n",
    "- [ ] True\n",
    "- [ ] False"
   ]
  },
  {
   "cell_type": "markdown",
   "metadata": {},
   "source": [
    "## 9. What are the jobs that AI is most likely to displace over the next several years?\n",
    "\n",
    "- [ ] Jobs that comprise primarily of non-routine, non-repetitive work\n",
    "- [ ] Jobs that comprise primarily of routine, repetitive work\n",
    "- [ ] All jobs will be displaced\n",
    "- [ ] Most jobs involving office work (white collar jobs)"
   ]
  },
  {
   "cell_type": "markdown",
   "metadata": {},
   "source": [
    "## 10. Congratulations! You deserve a pat on the back for finishing this course.\n",
    "\n",
    "- [ ] True\n",
    "- [ ] False"
   ]
  }
 ],
 "metadata": {
  "kernelspec": {
   "display_name": "Python 3",
   "language": "python",
   "name": "python3"
  },
  "language_info": {
   "codemirror_mode": {
    "name": "ipython",
    "version": 3
   },
   "file_extension": ".py",
   "mimetype": "text/x-python",
   "name": "python",
   "nbconvert_exporter": "python",
   "pygments_lexer": "ipython3",
   "version": "3.7.4"
  }
 },
 "nbformat": 4,
 "nbformat_minor": 2
}
