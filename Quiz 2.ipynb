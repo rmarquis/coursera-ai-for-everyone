{
 "cells": [
  {
   "cell_type": "markdown",
   "metadata": {},
   "source": [
    "# Week 2 Quiz"
   ]
  },
  {
   "cell_type": "markdown",
   "metadata": {},
   "source": [
    "## 1. Machine learning is an “iterative” process, meaning that an AI team often has to try many ideas before coming up with something that’s good enough, rather than have the first thing they try work.\n",
    "\n",
    "- [ ] True\n",
    "- [ ] False"
   ]
  },
  {
   "cell_type": "markdown",
   "metadata": {},
   "source": [
    "## 2. Say you want to use Machine Learning to help your sales team with automatic lead sorting. I.e., Input A (a sales prospect) and output B (whether your sales team should prioritize them). The 3 steps of the workflow, in scrambled order, are:\n",
    "\n",
    "* (i) Deploy a trained model and get data back from users\n",
    "* (ii) Collect data with both A and B\n",
    "* (iii) Train a machine learning system to input A and output B\n",
    "\n",
    "## What is the correct ordering of these steps?\n",
    "\n",
    "- [ ] (ii) (i) (iii)\n",
    "- [ ] (ii) (iii) (i)\n",
    "- [ ] (i) (ii) (iii)\n",
    "- [ ] (i) (iii) (ii)"
   ]
  },
  {
   "cell_type": "markdown",
   "metadata": {},
   "source": [
    "## 3. What are the key steps of a Data Science project?\n",
    "\n",
    "- [ ] Collect data\n",
    "- [ ] Analyze the data\n",
    "- [ ] Suggest hypothesis or actions\n",
    "- [ ] All of the above"
   ]
  },
  {
   "cell_type": "markdown",
   "metadata": {},
   "source": [
    "## 4. Machine Learning programs can help: (select all that apply)\n",
    "\n",
    "- [ ] Automate resume screening\n",
    "- [ ] Customize product recommendations\n",
    "- [ ] Automate lead sorting in sales\n",
    "- [ ] Automate visual inspection in a manufacturing line"
   ]
  },
  {
   "cell_type": "markdown",
   "metadata": {},
   "source": [
    "## 5. Unless you have a huge dataset (“Big Data”), it is generally not worth attempting machine learning or data science projects on your problem.\n",
    "\n",
    "- [ ] True\n",
    "- [ ] False"
   ]
  },
  {
   "cell_type": "markdown",
   "metadata": {},
   "source": [
    "## 6. Say you want to build an AI system to help recruiters with automated resume screening. Which of these steps might be involved in “technical diligence” process?  (Select all that apply.)\n",
    "\n",
    "- [ ] Ensuring that this is valuable for your business (e.g., estimating the project ROI)\n",
    "- [ ] Defining an engineering timeline\n",
    "- [ ] Making sure you can get enough data for this project\n",
    "- [ ] Making sure that an AI system can meet the desired performance"
   ]
  },
  {
   "cell_type": "markdown",
   "metadata": {},
   "source": [
    "## 7. Which of these statements about “business diligence” do you agree with?\n",
    "\n",
    "- [ ] Business diligence can typically be completed in less than a day.\n",
    "- [ ] Business diligence applies only if you are launching new product lines or businesses.\n",
    "- [ ] Business diligence is the process of ensuring that the AI technology, if it is built, is valuable for your business.\n",
    "- [ ] Business diligence is the process of ensuring that the envisioned AI technology is feasible."
   ]
  },
  {
   "cell_type": "markdown",
   "metadata": {},
   "source": [
    "## 8. You want to use supervised learning for automated resume screening, as in the example above. Which of the following statements about the Training Set are true? (Select all that apply.)\n",
    "\n",
    "- [ ] The Training set and Test set can be the same dataset.\n",
    "- [ ] It should give examples of the input A (resume) but not necessarily the desired output B (whether to move forward with a candidate).\n",
    "- [ ] It should give examples of both the input A (resume) and the desired output B (whether to move forward with a candidate).\n",
    "- [ ] It will be used by the AI team to train the supervised learning algorithm."
   ]
  },
  {
   "cell_type": "markdown",
   "metadata": {},
   "source": [
    "## 9. For your automated resume screening application, you are now providing a Test Set to the AI team. Which of the following statements about the Test Set are true? (Select all that apply.)\n",
    "\n",
    "- [ ] It should give examples of the input A (resume) but not necessarily the desired output B (whether to move forward with a candidate).\n",
    "- [ ] It will be used by the AI team to evaluate the performance of the algorithm.\n",
    "- [ ] The Test Set should ideally be identical to the Training Set.\n",
    "- [ ] It should give examples of both the input A (resume) and the desired output B (whether to move forward with a candidate)"
   ]
  },
  {
   "cell_type": "markdown",
   "metadata": {},
   "source": [
    "## 10. Which of these are reasons that it’s often unrealistic to expect an ML system to be 100% accurate?\n",
    "\n",
    "- [ ] You might not have enough data\n",
    "- [ ] Data can be mislabeled\n",
    "- [ ] Data can be ambiguous\n",
    "- [ ] All of the above."
   ]
  }
 ],
 "metadata": {
  "kernelspec": {
   "display_name": "Python 3",
   "language": "python",
   "name": "python3"
  },
  "language_info": {
   "codemirror_mode": {
    "name": "ipython",
    "version": 3
   },
   "file_extension": ".py",
   "mimetype": "text/x-python",
   "name": "python",
   "nbconvert_exporter": "python",
   "pygments_lexer": "ipython3",
   "version": "3.7.4"
  }
 },
 "nbformat": 4,
 "nbformat_minor": 2
}
