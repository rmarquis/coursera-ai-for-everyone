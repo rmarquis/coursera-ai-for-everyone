{
 "cells": [
  {
   "cell_type": "markdown",
   "metadata": {},
   "source": [
    "# Week 3 Quiz"
   ]
  },
  {
   "cell_type": "markdown",
   "metadata": {},
   "source": [
    "## 1. Because smart speakers can carry out multiple functions (such as tell a joke, play music, etc.) it is an example of Artificial General Intelligence (AGI).\n",
    "\n",
    "- [ ] True\n",
    "- [ ] False"
   ]
  },
  {
   "cell_type": "markdown",
   "metadata": {},
   "source": [
    "## 2. What are the key steps to a smart speaker function?\n",
    "\n",
    "- [ ] Trigger detection -> intent recognition -> speech recognition -> command execution.\n",
    "- [ ] Trigger word detection -> intent recognition -> speech recognition -> command execution.\n",
    "- [ ] Speech recognition → Trigger word detection -> intent recognition -> command execution.\n",
    "- [ ] Trigger word detection -> speech recognition -> intent recognition -> command execution."
   ]
  },
  {
   "cell_type": "markdown",
   "metadata": {},
   "source": [
    "## 3. Consider this system for building a self-driving car:\n",
    "\n",
    "<img src=\"images/NikWYDqzEemFOA6Hm29iNA_801e4531ac4808e8bb22cdaaed2e365c_andng.png\"  alt=\"Figure 1\" style=\"width: 50%;\">\n",
    "\n",
    "The component for pedestrian detection is usually built using:\n",
    "\n",
    "- [ ] GANs\n",
    "- [ ] Supervised learning\n",
    "- [ ] A motion planning algorithm\n",
    "- [ ] Reinforcement learning"
   ]
  },
  {
   "cell_type": "markdown",
   "metadata": {},
   "source": [
    "## 4. Suppose you are building a trigger word detection system, and want to hire someone to build a system to map from Inputs A (audio clip) to Outputs B (whether the trigger word was said), using existing AI technology. Out of the list below, which of the following hires would be most suitable for writing this software?\n",
    "\n",
    "- [ ] Data engineer\n",
    "- [ ] AI Product Manager\n",
    "- [ ] Machine learning engineer\n",
    "- [ ] Machine learning researcher"
   ]
  },
  {
   "cell_type": "markdown",
   "metadata": {},
   "source": [
    "## 5. What is the first step in the AI Transformation Playbook for helping your company become good at AI?\n",
    "\n",
    "- [ ] Execute pilot projects to gain momentum\n",
    "- [ ] Develop an AI strategy\n",
    "- [ ] Build an in-house AI team\n",
    "- [ ] Provide broad AI training"
   ]
  },
  {
   "cell_type": "markdown",
   "metadata": {},
   "source": [
    "## 6. Of the following options, which is the most important trait of your first pilot project?\n",
    "\n",
    "- [ ] Succeed and show traction within 6-10 months\n",
    "- [ ] Drive extremely high value for the business\n",
    "- [ ] Be executed by an in-house team\n",
    "- [ ] None of the above"
   ]
  },
  {
   "cell_type": "markdown",
   "metadata": {},
   "source": [
    "## 7. Say you are building a smart speaker, and want to accumulate data for your product through having many users. Which of these represents the “Virtuous circle of AI” for this product?\n",
    "\n",
    "- [ ] (A)\n",
    "\n",
    "<img src=\"images/mX2YcDq0EemnrA4AsaAhFA_bc4a0530e8d0df57323c9c9ac80ede3b_opta.png\"  alt=\"Figure 1\" style=\"width: 25%;\">\n",
    "\n",
    "- [ ] (B)\n",
    "\n",
    "<img src=\"images/sJME3zq0Eemplgpfqc6zSA_133fcb5eeeb4cab0a97f5d2bfe7744c0_optb.png\"  alt=\"Figure 2\" style=\"width: 25%;\">\n",
    "\n",
    "- [ ] (C)\n",
    "\n",
    "<img src=\"images/u7OuwTq0EemPcBIa2xz0qA_f9e5e2690dbb38f11538bcdeb37e05ec_optc.png\"  alt=\"Figure 3\" style=\"width: 25%;\">\n",
    "\n",
    "- [ ] (D)\n",
    "\n",
    "<img src=\"images/07u4qzq0EemPcBIa2xz0qA_3ed77c5e59ea8d2c2f7e96098555cd13_optd.png\"  alt=\"Figure 4\" style=\"width: 25%;\">"
   ]
  },
  {
   "cell_type": "markdown",
   "metadata": {},
   "source": [
    "## 8. Why is developing an AI strategy NOT the first step in the AI Transformation Playbook?\n",
    "\n",
    "- [ ] There is no reason. Developing an AI strategy IS the first step in the AI Transformation Playbook.\n",
    "- [ ] Without having some practical AI experience and knowing what it feels like to build an AI project, a company usually does not know enough to formulate a sound strategy.\n",
    "- [ ] The strategy should be to use the Virtuous Circle of AI, which comes after building a product.\n",
    "- [ ] When transforming a company into an AI company, one does not need a strategy, therefore it can’t be the first step."
   ]
  },
  {
   "cell_type": "markdown",
   "metadata": {},
   "source": [
    "## 9. According to the AI Transformation Playbook, broad AI training needs to be provided not only to engineers, but also to executives/senior business leaders and to leaders of divisions working on AI projects.\n",
    "\n",
    "- [ ] True\n",
    "- [ ] False"
   ]
  },
  {
   "cell_type": "markdown",
   "metadata": {},
   "source": [
    "## 10. Which of the following are AI pitfalls to avoid? (Select all that apply)\n",
    "\n",
    "- [ ] Expecting traditional planning processes to apply without changes\n",
    "- [ ] Expecting AI based projects to work the first time\n",
    "- [ ] Expecting AI to solve everything\n",
    "- [ ] Pairing engineering talent with business talent to identify feasible and valuable projects."
   ]
  }
 ],
 "metadata": {
  "kernelspec": {
   "display_name": "Python 3",
   "language": "python",
   "name": "python3"
  },
  "language_info": {
   "codemirror_mode": {
    "name": "ipython",
    "version": 3
   },
   "file_extension": ".py",
   "mimetype": "text/x-python",
   "name": "python",
   "nbconvert_exporter": "python",
   "pygments_lexer": "ipython3",
   "version": "3.7.4"
  }
 },
 "nbformat": 4,
 "nbformat_minor": 2
}
