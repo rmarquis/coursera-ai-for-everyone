{
 "cells": [
  {
   "cell_type": "markdown",
   "metadata": {},
   "source": [
    "# [AI For Everyone](https://www.coursera.org/learn/ai-for-everyone)\n",
    "\n",
    "AI is not only for engineers. “AI for Everyone”, a non-technical course, will help you understand AI technologies and spot opportunities to apply AI to problems in your own organization. You will see examples of what today’s AI can – and cannot – do. Finally, you will understand how AI is impacting society and how to navigate through this technological change.\n",
    "\n",
    "If you are a non-technical business professional, “AI for Everyone” will help you understand how to build a sustainable AI strategy. If you are a machine learning engineer or data scientist, this is the course to ask your manager, VP or CEO to take if you want them to understand what you can (and cannot!) do."
   ]
  },
  {
   "cell_type": "markdown",
   "metadata": {},
   "source": [
    "## Week 1: What is AI?\n",
    "\n",
    "### Lectures\n",
    "* Week 1 Introduction (7 min)\n",
    "* Machine Learning (6 min)\n",
    "* What is data? (11 min)\n",
    "* The terminology of AI (9 min)\n",
    "* What makes an AI company? (7 min)\n",
    "* What machine learning can and cannot do (7 min)\n",
    "* More examples of what machine learning can and cannot do (8 min)\n",
    "* Non-technical explanation of deep learning (Part 1, optional) (7 min)\n",
    "* Non-technical explanation of deep learning (Part 2, optional) (3 min)\n",
    "\n",
    "### Quiz \n",
    "Week 1 Quiz: 10 questions"
   ]
  },
  {
   "cell_type": "markdown",
   "metadata": {},
   "source": [
    "## Week 2: Building AI Projects\n",
    "\n",
    "### Lectures\n",
    "\n",
    "* Week 2 Introduction (1 min)\n",
    "* Workflow of a machine learning project (6 min)\n",
    "* Workflow of a data science project (6 min)\n",
    "* Every job function needs to learn how to use data (6 min)\n",
    "* How to choose an AI project (Part 1) (7 min)\n",
    "* How to choose an AI project (Part 2) (8 min)\n",
    "* Working with an AI team (8 min)\n",
    "* Technical tools for AI teams (optional) (6 min)\n",
    "\n",
    "### Quiz \n",
    "Week 2 Quiz: 10 questions"
   ]
  },
  {
   "cell_type": "markdown",
   "metadata": {},
   "source": [
    "## Week 3: AI in Your Company\n",
    "\n",
    "### Lectures\n",
    "\n",
    "* Week 3 Introduction (2 min)\n",
    "* Case study: Smart speaker (9 min)\n",
    "* Case study: Self-driving car (6 min)\n",
    "* Example roles of an AI team (8 min)\n",
    "* AI Transformation Playbook (Part 1) (10 min)\n",
    "* AI Transformation Playbook (Part 2) (14 min)\n",
    "* AI pitfalls to avoid (2 min)\n",
    "* Taking your first step in AI (4 min)\n",
    "* Survey of major AI application areas (optional) (17 min)\n",
    "* Survey of major AI techniques (optional) (15 min)\n",
    "\n",
    "### Quiz \n",
    "Week 3 Quiz: 10 questions"
   ]
  },
  {
   "cell_type": "markdown",
   "metadata": {},
   "source": [
    "## Week 4: AI and Society\n",
    "\n",
    "### Lectures\n",
    "\n",
    "* Week 4 Introduction (2 min)\n",
    "* A realistic view of AI (7 min)\n",
    "* Discrimination / Bias (9 min)\n",
    "* Adversarial attacks on AI (7 min)\n",
    "* Adverse uses of AI (4 min)\n",
    "* AI and developing economies (7 min)\n",
    "* AI and jobs (7 min)\n",
    "* Conclusion (3 min)\n",
    "\n",
    "### Quiz \n",
    "Week 4 Quiz: 10 questions"
   ]
  }
 ],
 "metadata": {
  "kernelspec": {
   "display_name": "Python 3",
   "language": "python",
   "name": "python3"
  },
  "language_info": {
   "codemirror_mode": {
    "name": "ipython",
    "version": 3
   },
   "file_extension": ".py",
   "mimetype": "text/x-python",
   "name": "python",
   "nbconvert_exporter": "python",
   "pygments_lexer": "ipython3",
   "version": "3.7.4"
  }
 },
 "nbformat": 4,
 "nbformat_minor": 2
}
